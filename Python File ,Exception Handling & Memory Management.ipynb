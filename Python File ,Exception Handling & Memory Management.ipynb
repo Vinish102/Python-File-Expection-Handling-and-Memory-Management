{
 "cells": [
  {
   "cell_type": "markdown",
   "id": "ab5da08c",
   "metadata": {},
   "source": [
    "Python File, Expection Handling and Memory Management"
   ]
  },
  {
   "cell_type": "code",
   "execution_count": null,
   "id": "bf03f5f2",
   "metadata": {},
   "outputs": [],
   "source": [
    "#Q1) What is the difference between interpreted and compiled languages?"
   ]
  },
  {
   "cell_type": "code",
   "execution_count": null,
   "id": "19c4c46e",
   "metadata": {},
   "outputs": [],
   "source": [
    "\"\"\"\n",
    "The main differences between interpreted and compiled languages are:\n",
    "\n",
    "Execution Method:\n",
    "\n",
    "Interpreted Languages: Code is executed line-by-line by an interpreter at runtime (e.g., Python, JavaScript).\n",
    "Compiled Languages: Code is translated into machine code by a compiler before execution (e.g., C, C++).\n",
    "Performance:\n",
    "\n",
    "Interpreted Languages: Generally slower due to real-time interpretation.\n",
    "Compiled Languages: Typically faster since the code is pre-compiled into machine code.\n",
    "Error Detection:\n",
    "\n",
    "Interpreted Languages: Errors are detected at runtime.\n",
    "Compiled Languages: Errors are detected at compile time.\n",
    "Portability:\n",
    "\n",
    "Interpreted Languages: More portable across different platforms since they rely on the interpreter.\n",
    "Compiled Languages: Less portable; compiled code is specific to the target machine's architecture.\n",
    "Development Cycle:\n",
    "\n",
    "Interpreted Languages: Easier to test and debug due to immediate execution.\n",
    "Compiled Languages: Requires a separate compilation step, which can slow down the development cycle.\n",
    "\"\"\""
   ]
  },
  {
   "cell_type": "code",
   "execution_count": null,
   "id": "dfaadfe8",
   "metadata": {},
   "outputs": [],
   "source": [
    "#Q2) What is exception handling in Python?"
   ]
  },
  {
   "cell_type": "code",
   "execution_count": null,
   "id": "9f49d2a4",
   "metadata": {},
   "outputs": [],
   "source": [
    "\"\"\"\n",
    "Exception handling in Python is a mechanism to manage errors and exceptional conditions that occur during program execution. It allows developers to write code that can gracefully handle errors without crashing the program.\n",
    "\n",
    "Key components of exception handling in Python include:\n",
    "\n",
    "try Block: Code that may raise an exception is placed inside a try block.\n",
    "\n",
    "except Block: Code that handles the exception is placed in an except block. You can specify the type of exception to catch.\n",
    "\n",
    "finally Block: Code that runs regardless of whether an exception occurred or not can be placed in a finally block.\n",
    "\n",
    "else Block: Code that runs if no exceptions were raised in the try block can be placed in an else block.\n",
    "\"\"\""
   ]
  },
  {
   "cell_type": "code",
   "execution_count": null,
   "id": "fb39c890",
   "metadata": {},
   "outputs": [],
   "source": [
    "#example\n",
    "try:\n",
    "    # Code that may raise an exception\n",
    "    result = 10 / 0\n",
    "except ZeroDivisionError:\n",
    "    # Handling the exception\n",
    "    print(\"Cannot divide by zero!\")\n",
    "else:\n",
    "    # Runs if no exception occurred\n",
    "    print(\"Result:\", result)\n",
    "finally:\n",
    "    # Always runs\n",
    "    print(\"Execution completed.\")"
   ]
  },
  {
   "cell_type": "code",
   "execution_count": null,
   "id": "138ae126",
   "metadata": {},
   "outputs": [],
   "source": [
    "#Q3) What is the purpose of the finally block in exception handling?"
   ]
  },
  {
   "cell_type": "code",
   "execution_count": null,
   "id": "b0a3e09b",
   "metadata": {},
   "outputs": [],
   "source": []
  },
  {
   "cell_type": "code",
   "execution_count": null,
   "id": "142610be",
   "metadata": {},
   "outputs": [],
   "source": [
    "\"\"\"\n",
    "Key Points about the finally Block:\n",
    "Guaranteed Execution: The code inside the finally block will run after the try and except blocks, even if an unhandled exception occurs. This ensures that critical cleanup code is executed.\n",
    "\n",
    "Resource Management: It is commonly used for resource management tasks, such as closing files, releasing network connections, or freeing up memory.\n",
    "\n",
    "No Impact from Exceptions: If an exception occurs in the try block and is caught in an except block, or if it is not caught at all, the finally block will still execute.\n",
    "\"\"\""
   ]
  },
  {
   "cell_type": "code",
   "execution_count": null,
   "id": "c8456d6f",
   "metadata": {},
   "outputs": [],
   "source": [
    "#example\n",
    "try:\n",
    "    file = open(\"example.txt\", \"r\")\n",
    "    # Code that may raise an exception\n",
    "    data = file.read()\n",
    "except FileNotFoundError:\n",
    "    print(\"File not found!\")\n",
    "finally:\n",
    "    # This block will always execute\n",
    "    file.close()\n",
    "    print(\"File closed.\")"
   ]
  },
  {
   "cell_type": "code",
   "execution_count": null,
   "id": "a388f332",
   "metadata": {},
   "outputs": [],
   "source": [
    "#Q4) What is logging in Python?"
   ]
  },
  {
   "cell_type": "code",
   "execution_count": null,
   "id": "d9427832",
   "metadata": {},
   "outputs": [],
   "source": [
    "\"\"\"\n",
    "Logging in Python is a way to track events that happen during the execution of a program. \n",
    "It provides a means to record messages that can help developers understand the flow of the program, diagnose issues, and monitor the application's behavior. \n",
    "The built-in logging module in Python offers a flexible framework for emitting log messages from Python programs.\n",
    "\"\"\""
   ]
  },
  {
   "cell_type": "code",
   "execution_count": null,
   "id": "da1c4985",
   "metadata": {},
   "outputs": [],
   "source": [
    "#example\n",
    "import logging\n",
    "\n",
    "# Configure logging\n",
    "logging.basicConfig(level=logging.DEBUG, format='%(asctime)s - %(levelname)s - %(message)s')\n",
    "\n",
    "# Log messages of different severity levels\n",
    "logging.debug(\"This is a debug message.\")\n",
    "logging.info(\"This is an info message.\")\n",
    "logging.warning(\"This is a warning message.\")\n",
    "logging.error(\"This is an error message.\")\n",
    "logging.critical(\"This is a critical message.\")"
   ]
  },
  {
   "cell_type": "code",
   "execution_count": null,
   "id": "c0be91c0",
   "metadata": {},
   "outputs": [],
   "source": [
    "#Q5) What is the significance of the __del__ method in Python?"
   ]
  },
  {
   "cell_type": "code",
   "execution_count": null,
   "id": "c5e29902",
   "metadata": {},
   "outputs": [],
   "source": [
    "#The __del__ method in Python is a special method, also known as a destructor, that is called when an object is about to be destroyed."
   ]
  },
  {
   "cell_type": "code",
   "execution_count": null,
   "id": "07deb007",
   "metadata": {},
   "outputs": [],
   "source": [
    "#example\n",
    "class Resource:\n",
    "    def __init__(self, name):\n",
    "        self.name = name\n",
    "        print(f\"Resource {self.name} acquired.\")\n",
    "\n",
    "    def __del__(self):\n",
    "        print(f\"Resource {self.name} released.\")\n",
    "\n",
    "# Creating an instance of Resource\n",
    "res = Resource(\"A\")\n",
    "\n",
    "# Deleting the instance\n",
    "del res  # This will trigger the __del__ method"
   ]
  },
  {
   "cell_type": "code",
   "execution_count": null,
   "id": "4a13eba9",
   "metadata": {},
   "outputs": [],
   "source": [
    "#While the __del__ method can be useful for resource cleanup, it should be used with caution due to its limitations and the complexities of Python's garbage collection."
   ]
  },
  {
   "cell_type": "code",
   "execution_count": null,
   "id": "9041d768",
   "metadata": {},
   "outputs": [],
   "source": [
    "#Q6) What is the difference between import and from ... import in Python?"
   ]
  },
  {
   "cell_type": "code",
   "execution_count": null,
   "id": "6ce3fbd6",
   "metadata": {},
   "outputs": [],
   "source": [
    "#In Python, both import and from ... import are used to include modules and their components in your code, but they do so in different ways and have different implications. \n",
    "#Here’s a breakdown of the differences:\n",
    "\n",
    "#1. Basic Syntax\n",
    "#import: This statement imports the entire module. You can then access its functions, classes, and variables using the module name as a prefix.\n",
    "\n",
    "#import module_name\n",
    "#module_name.function_name()\n",
    "\n",
    "\n",
    "#from ... import: This statement imports specific attributes (functions, classes, variables) from a module directly into the current namespace. \n",
    "#You can use them without the module name prefix.\n",
    "\n",
    "#from module_name import function_name\n",
    "#function_name()\n",
    "\n",
    "#2. Namespace\n",
    "#import: When you use import, the module is loaded into the namespace, and you must use the module name to access its contents. \n",
    "#This helps avoid naming conflicts.\n",
    "\n",
    "import math\n",
    "print(math.sqrt(16))  # Accessing sqrt function from math module\n",
    "\n",
    "#from ... import: When you use from ... import, the specified attributes are imported directly into the current namespace, allowing you to use them without the module prefix.\n",
    "\n",
    "from math import sqrt\n",
    "print(sqrt(16))  # Directly using sqrt function"
   ]
  },
  {
   "cell_type": "code",
   "execution_count": null,
   "id": "23b10e8b",
   "metadata": {},
   "outputs": [],
   "source": [
    "#Q7) How can you handle multiple exceptions in Python?"
   ]
  },
  {
   "cell_type": "code",
   "execution_count": null,
   "id": "cd140333",
   "metadata": {},
   "outputs": [],
   "source": [
    "#1. Using Multiple except Clauses\n",
    "#You can specify multiple except clauses to handle different exceptions separately. \n",
    "#This allows you to provide specific handling for each type of exception.\n",
    "\n",
    "try:\n",
    "    # Code that may raise exceptions\n",
    "    result = 10 / 0  # This will raise a ZeroDivisionError\n",
    "except ZeroDivisionError:\n",
    "    print(\"You can't divide by zero!\")\n",
    "except ValueError:\n",
    "    print(\"A value error occurred!\")\n",
    "except TypeError:\n",
    "    print(\"A type error occurred!\")"
   ]
  },
  {
   "cell_type": "code",
   "execution_count": null,
   "id": "ac954313",
   "metadata": {},
   "outputs": [],
   "source": [
    "#2. Catching Multiple Exceptions in a Single except Clause\n",
    "#If you want to handle multiple exceptions in the same way, you can group them in a tuple within a single except clause.\n",
    "\n",
    "try:\n",
    "    # Code that may raise exceptions\n",
    "    result = int(\"abc\")  # This will raise a ValueError\n",
    "except (ZeroDivisionError, ValueError, TypeError) as e:\n",
    "    print(f\"An error occurred: {e}\")"
   ]
  },
  {
   "cell_type": "code",
   "execution_count": null,
   "id": "828e5fc4",
   "metadata": {},
   "outputs": [],
   "source": [
    "#3. Using a Base Exception Class\n",
    "#You can catch a base class of exceptions if you want to handle a group of related exceptions. \n",
    "#For example, you can catch all exceptions that inherit from Exception.\n",
    "\n",
    "try:\n",
    "    # Code that may raise exceptions\n",
    "    result = 10 / 0  # This will raise a ZeroDivisionError\n",
    "except Exception as e:\n",
    "    print(f\"An error occurred: {e}\")"
   ]
  },
  {
   "cell_type": "code",
   "execution_count": null,
   "id": "a5860a99",
   "metadata": {},
   "outputs": [],
   "source": [
    "#Q8) What is the purpose of the with statement when handling files in Python?"
   ]
  },
  {
   "cell_type": "code",
   "execution_count": null,
   "id": "ee1b345a",
   "metadata": {},
   "outputs": [],
   "source": [
    "\"\"\"\n",
    "Purpose of the with Statement\n",
    "Automatic Resource Management: The primary purpose of the with statement is to ensure that resources are properly managed. \n",
    "When you open a file using the with statement, it guarantees that the file will be closed automatically when the block of code is exited, even if an exception occurs. \n",
    "This helps prevent resource leaks.\n",
    "\n",
    "Cleaner Syntax: The with statement provides a cleaner and more readable syntax for managing resources. \n",
    "It reduces the amount of boilerplate code needed for opening and closing files.\n",
    "\n",
    "Exception Handling: If an error occurs within the with block, the file will still be closed properly. \n",
    "This is particularly important in file handling, where failing to close a file can lead to data corruption or loss.\n",
    "\"\"\""
   ]
  },
  {
   "cell_type": "code",
   "execution_count": null,
   "id": "03fba287",
   "metadata": {},
   "outputs": [],
   "source": [
    "#Example of Using the with Statement\n",
    "#Here’s a simple example of how to use the with statement for file handling:\n",
    "\n",
    "\n",
    "# Using the with statement to open a file\n",
    "#with open('example.txt', 'r') as file:\n",
    " #   content = file.read()\n",
    "  #  print(content)\n",
    "# The file is automatically closed here, even if an error occurs"
   ]
  },
  {
   "cell_type": "code",
   "execution_count": null,
   "id": "99effc58",
   "metadata": {},
   "outputs": [],
   "source": [
    "#Q9) What is the difference between multithreading and multiprocessing?"
   ]
  },
  {
   "cell_type": "code",
   "execution_count": null,
   "id": "2b0bf236",
   "metadata": {},
   "outputs": [],
   "source": [
    "\"\"\"\n",
    "Multithreading: Multiple threads within a single process, sharing memory space, suitable for I/O-bound tasks, faster context switching, but can lead to race conditions.\n",
    "Multiprocessing: Multiple processes with separate memory spaces, suitable for CPU-bound tasks, better isolation, but more complex to manage and communicate between processes.\n",
    "\"\"\""
   ]
  },
  {
   "cell_type": "code",
   "execution_count": null,
   "id": "018f8922",
   "metadata": {},
   "outputs": [],
   "source": [
    "#multithreading\n",
    "import threading\n",
    "import time\n",
    "\n",
    "def print_numbers():\n",
    "    for i in range(5):\n",
    "        print(i)\n",
    "        time.sleep(1)\n",
    "\n",
    "thread = threading.Thread(target=print_numbers)\n",
    "thread.start()\n",
    "thread.join()  # Wait for the thread to finish"
   ]
  },
  {
   "cell_type": "code",
   "execution_count": null,
   "id": "359d4f75",
   "metadata": {},
   "outputs": [],
   "source": [
    "#Multiprocessing \n",
    "import multiprocessing\n",
    "import time\n",
    "\n",
    "def print_numbers():\n",
    "    for i in range(5):\n",
    "        print(i)\n",
    "        time.sleep(1)\n",
    "\n",
    "process = multiprocessing.Process(target=print_numbers)\n",
    "process.start()\n",
    "process.join()  # Wait for the process to finish"
   ]
  },
  {
   "cell_type": "code",
   "execution_count": null,
   "id": "87707d92",
   "metadata": {},
   "outputs": [],
   "source": [
    "#Q10) What are the advantages of using logging in a program?"
   ]
  },
  {
   "cell_type": "code",
   "execution_count": null,
   "id": "392236c2",
   "metadata": {},
   "outputs": [],
   "source": [
    "\"\"\"\n",
    " logging is a crucial aspect of software development that provides numerous advantages, including improved debugging, monitoring, accountability, and overall code quality. \n",
    " By implementing a robust logging strategy, developers can gain valuable insights into their applications, enhance maintainability, and ensure a better user experience.\n",
    "\"\"\""
   ]
  },
  {
   "cell_type": "code",
   "execution_count": null,
   "id": "75aadd8e",
   "metadata": {},
   "outputs": [],
   "source": [
    "\"\"\"\n",
    "Debugging and Troubleshooting\n",
    "Error Tracking: Logging provides a way to track errors and exceptions that occur during the execution of a program. \n",
    "This helps developers identify and fix issues more efficiently.\n",
    "Contextual Information: Logs can include contextual information (like timestamps, function names, and variable values) that can help diagnose problems.\n",
    "\"\"\""
   ]
  },
  {
   "cell_type": "code",
   "execution_count": null,
   "id": "6762f720",
   "metadata": {},
   "outputs": [],
   "source": [
    "\n",
    "#Q11) What is memory management in Python?"
   ]
  },
  {
   "cell_type": "code",
   "execution_count": null,
   "id": "0605d3ad",
   "metadata": {},
   "outputs": [],
   "source": [
    "\"\"\"\n",
    "Memory management in Python refers to the process of allocating, using, and freeing memory during the execution of a Python program. \n",
    "Python handles memory management automatically through a combination of techniques, which helps developers focus on writing code without worrying too much about memory allocation and deallocation.\n",
    "\"\"\""
   ]
  },
  {
   "cell_type": "code",
   "execution_count": null,
   "id": "131d9803",
   "metadata": {},
   "outputs": [],
   "source": [
    "\"\"\"\n",
    "Best Practices for Memory Management\n",
    "To optimize memory usage in Python, developers can follow some best practices:\n",
    "\n",
    "Use Built-in Data Types: Python’s built-in data types are optimized for memory usage and performance.\n",
    "Avoid Circular References: Be cautious with circular references, as they can complicate garbage collection.\n",
    "Profile Memory Usage: Regularly profile memory usage to identify potential leaks or inefficiencies.\n",
    "Release Unused References: Explicitly delete references to large objects when they are no longer needed to help the garbage collector reclaim memory sooner.\n",
    "\n",
    "\"\"\"\n"
   ]
  },
  {
   "cell_type": "code",
   "execution_count": null,
   "id": "611590ba",
   "metadata": {},
   "outputs": [],
   "source": [
    "#Q12) What are the basic steps involved in exception handling in Python?"
   ]
  },
  {
   "cell_type": "code",
   "execution_count": null,
   "id": "79f588c9",
   "metadata": {},
   "outputs": [],
   "source": [
    "#Use of Try Block\n",
    "try:\n",
    "    # Code that may raise an exception\n",
    "    result = 10 / 0  # This will raise a ZeroDivisionError"
   ]
  },
  {
   "cell_type": "code",
   "execution_count": null,
   "id": "04547b90",
   "metadata": {},
   "outputs": [],
   "source": [
    "#Catching Exceptions with Except Block\n",
    "try:\n",
    "    result = 10 / 0\n",
    "except ZeroDivisionError:\n",
    "    print(\"You cannot divide by zero!\")"
   ]
  },
  {
   "cell_type": "code",
   "execution_count": null,
   "id": "4c3a8268",
   "metadata": {},
   "outputs": [],
   "source": [
    "#Handling Multiple Exceptions\n",
    "try:\n",
    "    result = int(\"abc\")  # This will raise a ValueError\n",
    "except (ZeroDivisionError, ValueError) as e:\n",
    "    print(f\"An error occurred: {e}\")"
   ]
  },
  {
   "cell_type": "code",
   "execution_count": null,
   "id": "de88e91b",
   "metadata": {},
   "outputs": [],
   "source": [
    "#Using Else Block\n",
    "try:\n",
    "    result = 10 / 2\n",
    "except ZeroDivisionError:\n",
    "    print(\"You cannot divide by zero!\")\n",
    "else:\n",
    "    print(f\"The result is {result}\")"
   ]
  },
  {
   "cell_type": "code",
   "execution_count": null,
   "id": "93d87905",
   "metadata": {},
   "outputs": [],
   "source": [
    "#Using Finally Block\n",
    "try:\n",
    "    file = open(\"example.txt\", \"r\")\n",
    "    content = file.read()\n",
    "except FileNotFoundError:\n",
    "    print(\"File not found!\")\n",
    "finally:\n",
    "    file.close()  # This will run whether an exception occurred or not"
   ]
  },
  {
   "cell_type": "code",
   "execution_count": null,
   "id": "5d65b920",
   "metadata": {},
   "outputs": [],
   "source": [
    "#Raising Exceptions\n",
    "def divide(a, b):\n",
    "    if b == 0:\n",
    "        raise ValueError(\"The denominator cannot be zero.\")\n",
    "    return a / b\n",
    "\n",
    "try:\n",
    "    result = divide(10, 0)\n",
    "except ValueError as e:\n",
    "    print(e)"
   ]
  },
  {
   "cell_type": "code",
   "execution_count": null,
   "id": "7b23002b",
   "metadata": {},
   "outputs": [],
   "source": [
    "#Q13) Why is memory management important in Python?"
   ]
  },
  {
   "cell_type": "code",
   "execution_count": null,
   "id": "f4e8ed1f",
   "metadata": {},
   "outputs": [],
   "source": [
    "\"\"\"\n",
    "memory management is crucial in Python for optimizing performance, preventing memory leaks, ensuring stability and reliability, enabling scalability, simplifying development, and facilitating profiling and optimization. \n",
    "While Python abstracts much of the complexity of memory management, a solid understanding of how it works can help developers write more efficient, robust, and maintainable code.\n",
    "\"\"\""
   ]
  },
  {
   "cell_type": "code",
   "execution_count": null,
   "id": "3f48f923",
   "metadata": {},
   "outputs": [],
   "source": [
    "#Q14) What is the role of try and except in exception handling?"
   ]
  },
  {
   "cell_type": "code",
   "execution_count": null,
   "id": "6aa7a704",
   "metadata": {},
   "outputs": [],
   "source": [
    "#example\n",
    "def divide(a, b):\n",
    "    try:\n",
    "        result = a / b\n",
    "    except ZeroDivisionError:\n",
    "        print(\"Error: Division by zero is not allowed.\")\n",
    "        return None\n",
    "    except TypeError:\n",
    "        print(\"Error: Both arguments must be numbers.\")\n",
    "        return None\n",
    "    else:\n",
    "        print(f\"The result is {result}\")\n",
    "        return result\n",
    "\n",
    "# Test the function\n",
    "divide(10, 2)  # Normal case\n",
    "divide(10, 0)  # Division by zero\n",
    "divide(10, \"a\")  # Type error"
   ]
  },
  {
   "cell_type": "code",
   "execution_count": null,
   "id": "266b662a",
   "metadata": {},
   "outputs": [],
   "source": [
    "\"\"\"\n",
    "The try and except blocks are fundamental components of exception handling in Python. \n",
    "They allow developers to write robust code that can gracefully handle errors, improving the reliability and user experience of applications. \n",
    "By using these constructs, you can anticipate potential issues, respond appropriately, and maintain control over the flow of your program even in the face of unexpected conditions.\n",
    "\"\"\""
   ]
  },
  {
   "cell_type": "code",
   "execution_count": null,
   "id": "1453f3c1",
   "metadata": {},
   "outputs": [],
   "source": [
    "#Q15) How does Python's garbage collection system work ?"
   ]
  },
  {
   "cell_type": "code",
   "execution_count": null,
   "id": "a7fb5bbc",
   "metadata": {},
   "outputs": [],
   "source": [
    "\"\"\"\n",
    "1. Reference Counting\n",
    "Basic Mechanism: Python primarily uses a technique called reference counting to manage memory.\n",
    "Deallocation: When the reference count of an object drops to zero (meaning no references to the object exist), Python automatically deallocates the memory occupied by that object.\n",
    "2. Cyclic References\n",
    "Problem with Cycles: Reference counting alone cannot handle cyclic references, where two or more objects reference each other, creating a cycle. \n",
    "In such cases, the reference count for these objects may never reach zero, leading to memory leaks.\n",
    "\n",
    "\"\"\"\n",
    "#example\n",
    "class Node:\n",
    "    def __init__(self):\n",
    "        self.ref = None\n",
    "\n",
    "a = Node()\n",
    "b = Node()\n",
    "a.ref = b\n",
    "b.ref = a  # a and b reference each other, creating a cycle"
   ]
  },
  {
   "cell_type": "code",
   "execution_count": null,
   "id": "9c37509e",
   "metadata": {},
   "outputs": [],
   "source": [
    "\"\"\"\n",
    "Garbage Collection (GC) Module\n",
    "Cycle Detection: To address the issue of cyclic references, Python includes a garbage collection module that periodically checks for and collects objects that are no longer reachable, even if they are part of a cycle.\n",
    "Generational Approach: Python's garbage collector uses a generational approach, which is based on the observation that most objects die young (i.e., they are short-lived).\n",
    "\"\"\""
   ]
  },
  {
   "cell_type": "code",
   "execution_count": null,
   "id": "40ea8a98",
   "metadata": {},
   "outputs": [],
   "source": [
    "\"\"\"\n",
    "Python's garbage collection system combines reference counting with a cyclic garbage collector to manage memory efficiently. \n",
    "This system helps prevent memory leaks and ensures that memory is reclaimed when objects are no longer needed. \n",
    "While Python's automatic memory management simplifies development, understanding how it works can help developers write more efficient and robust applications.\n",
    "\"\"\""
   ]
  },
  {
   "cell_type": "code",
   "execution_count": null,
   "id": "a1d11cbd",
   "metadata": {},
   "outputs": [],
   "source": [
    "#Q16) What is the purpose of the else block in exception handling?"
   ]
  },
  {
   "cell_type": "code",
   "execution_count": null,
   "id": "951b846e",
   "metadata": {},
   "outputs": [],
   "source": [
    "#Example\n",
    "def divide(a, b):\n",
    "    try:\n",
    "        result = a / b  # This may raise a ZeroDivisionError\n",
    "    except ZeroDivisionError:\n",
    "        print(\"Error: Division by zero is not allowed.\")\n",
    "    else:\n",
    "        print(f\"The result is {result}\")  # This runs only if no exception occurred\n",
    "\n",
    "# Test the function\n",
    "divide(10, 2)  # Output: The result is 5.0\n",
    "divide(10, 0)  # Output: Error: Division by zero is not allowed."
   ]
  },
  {
   "cell_type": "code",
   "execution_count": null,
   "id": "cfc1c02d",
   "metadata": {},
   "outputs": [],
   "source": [
    "\"\"\"\n",
    "Key Points\n",
    "Optional: The else block is optional. You can use try and except without an else block if you don’t need to execute any code after a successful try block.\n",
    "Placement: The else block must come after all except blocks and before any finally block (if present).\n",
    "No Exception Handling: The else block does not handle exceptions. \n",
    "If an exception occurs in the try block, control will jump to the corresponding except block, and the else block will be skipped.\n",
    "\"\"\""
   ]
  },
  {
   "cell_type": "code",
   "execution_count": null,
   "id": "49b21b07",
   "metadata": {},
   "outputs": [],
   "source": [
    "#Q17) What are the common logging levels in Python?"
   ]
  },
  {
   "cell_type": "code",
   "execution_count": null,
   "id": "3a428310",
   "metadata": {},
   "outputs": [],
   "source": [
    "\"\"\"\n",
    "Logging Level Hierarchy\n",
    "The logging levels in Python are hierarchical, meaning that each level includes all the levels below it. For example:\n",
    "\n",
    "DEBUG includes all messages from DEBUG, INFO, WARNING, ERROR, and CRITICAL levels.\n",
    "INFO includes all messages from INFO, WARNING, ERROR, and CRITICAL levels.\n",
    "WARNING includes all messages from WARNING, ERROR, and CRITICAL levels.\n",
    "ERROR includes all messages from ERROR and CRITICAL levels.\n",
    "CRITICAL includes only messages from the CRITICAL level.\n",
    "\"\"\""
   ]
  },
  {
   "cell_type": "code",
   "execution_count": null,
   "id": "e99bb117",
   "metadata": {},
   "outputs": [],
   "source": [
    "\"\"\"\n",
    "Setting the Logging Level\n",
    "You can set the logging level for a logger using the setLevel() method. For example:\n",
    "\"\"\"\n",
    "import logging\n",
    "\n",
    "logger = logging.getLogger()\n",
    "logger.setLevel(logging.INFO)\n",
    "#Logging Messages\n",
    "#You can log messages using the corresponding logging methods:"
   ]
  },
  {
   "cell_type": "code",
   "execution_count": null,
   "id": "e92fc12b",
   "metadata": {},
   "outputs": [],
   "source": [
    "logger.debug(\"This is a debug message\")\n",
    "logger.info(\"This is an info message\")\n",
    "logger.warning(\"This is a warning message\")\n",
    "logger.error(\"This is an error message\")\n",
    "logger.critical(\"This is a critical message\")"
   ]
  },
  {
   "cell_type": "code",
   "execution_count": null,
   "id": "725eaed7",
   "metadata": {},
   "outputs": [],
   "source": [
    "#Q18) What is the difference between os.fork() and multiprocessing in Python?"
   ]
  },
  {
   "cell_type": "code",
   "execution_count": null,
   "id": "ab8384f1",
   "metadata": {},
   "outputs": [],
   "source": [
    "#example\n",
    "import os\n",
    "\n",
    "pid = os.fork()\n",
    "\n",
    "if pid > 0:\n",
    "    print(f\"Parent process: {os.getpid()}, Child process: {pid}\")\n",
    "else:\n",
    "    print(f\"Child process: {os.getpid()}\")"
   ]
  },
  {
   "cell_type": "code",
   "execution_count": null,
   "id": "d5e49dc3",
   "metadata": {},
   "outputs": [],
   "source": [
    "#example\n",
    "from multiprocessing import Process\n",
    "\n",
    "def worker():\n",
    "    print(f\"Worker process: {os.getpid()}\")\n",
    "\n",
    "if __name__ == \"__main__\":\n",
    "    processes = []\n",
    "    for _ in range(5):\n",
    "        p = Process(target=worker)\n",
    "        processes.append(p)\n",
    "        p.start()\n",
    "\n",
    "    for p in processes:\n",
    "        p.join()"
   ]
  },
  {
   "cell_type": "code",
   "execution_count": null,
   "id": "b9d9dcf4",
   "metadata": {},
   "outputs": [],
   "source": [
    "\"\"\"\n",
    "os.fork() is a low-level method for creating processes that is specific to Unix-like systems, while the multiprocessing module provides a higher-level, cross-platform interface for process creation and management, making it easier to work with multiple processes in Python.\n",
    "For most applications, especially those that require portability and ease of use, the multiprocessing module is the preferred choice.\n",
    "\"\"\""
   ]
  },
  {
   "cell_type": "code",
   "execution_count": null,
   "id": "057976b1",
   "metadata": {},
   "outputs": [],
   "source": [
    "#Q19) What is the importance of closing a file in Python?"
   ]
  },
  {
   "cell_type": "code",
   "execution_count": null,
   "id": "e79e33ae",
   "metadata": {},
   "outputs": [],
   "source": [
    "#Using with Statement\n",
    "#To simplify file handling and ensure that files are closed properly, Python provides the with statement (context manager). \n",
    "#When you use with, the file is automatically closed when the block of code is exited, even if an error occurs. \n",
    "#This is the recommended way to handle files in Python.\n",
    "\n",
    "#Example of Using with\n",
    "\n",
    "with open('example.txt', 'w') as file:\n",
    "    file.write('Hello, World!')\n",
    "# The file is automatically closed here, even if an error occurs.\n",
    "\n",
    "#Example of Not Closing a File\n",
    "#If you do not close a file explicitly, you might run into issues:\n",
    "\n",
    "\n",
    "file = open('example.txt', 'w')\n",
    "file.write('Hello, World!')\n",
    "# If you forget to close the file, data may not be written properly.\n",
    "# file.close() is missing here.\n",
    "#Conclusion\n",
    "#In summary, closing a file in Python is crucial for effective resource management, ensuring data integrity, preventing data corruption, and maintaining program stability. \n",
    "#Using the with statement is the best practice for file handling, as it automatically manages file closure, reducing the risk of errors and improving code readability."
   ]
  },
  {
   "cell_type": "code",
   "execution_count": null,
   "id": "a1ccca67",
   "metadata": {},
   "outputs": [],
   "source": [
    "#Q20) What is the difference between file.read() and file.readline() in Python?"
   ]
  },
  {
   "cell_type": "code",
   "execution_count": null,
   "id": "321ab28d",
   "metadata": {},
   "outputs": [],
   "source": [
    "\"\"\"\n",
    "When to Use Each\n",
    "Use file.read() when:\n",
    "\n",
    "You need to read the entire content of a small to moderately sized file at once.\n",
    "You want to perform operations that require the whole file content, such as searching for substrings or processing the entire text.\n",
    "\"\"\"\n",
    "with open('example.txt', 'r') as file:\n",
    "    content = file.read()  # Reads the entire file\n",
    "    print(content)"
   ]
  },
  {
   "cell_type": "code",
   "execution_count": null,
   "id": "2590105c",
   "metadata": {},
   "outputs": [],
   "source": [
    "\"\"\"\n",
    "Use file.readline() when:\n",
    "\n",
    "You are working with large files and want to minimize memory usage.\n",
    "You want to process the file line by line, such as when reading log files or processing CSV data.\n",
    "\"\"\"\n",
    "with open('example.txt', 'r') as file:\n",
    "    line = file.readline()  # Reads the first line\n",
    "    print(line)\n",
    "    line = file.readline()  # Reads the second line\n",
    "    print(line)"
   ]
  },
  {
   "cell_type": "code",
   "execution_count": null,
   "id": "bb2d250c",
   "metadata": {},
   "outputs": [],
   "source": [
    "#Q21) What is the logging module in Python used for?"
   ]
  },
  {
   "cell_type": "code",
   "execution_count": null,
   "id": "f5d817a8",
   "metadata": {},
   "outputs": [],
   "source": [
    "\"\"\"\n",
    "Common Use Cases\n",
    "Debugging: Logging is essential for tracking down issues in your code. By logging messages at various levels, you can gain insights into the program's flow and identify where things go wrong.\n",
    "\n",
    "Monitoring: In production environments, logging can help monitor the health and performance of applications. You can log important events and metrics to analyze later.\n",
    "\n",
    "Auditing: Logging can be used to keep track of user actions and system events, which is important for security and compliance.\n",
    "\n",
    "Error Reporting: You can log errors and exceptions to understand what went wrong and take corrective actions.\n",
    "\"\"\""
   ]
  },
  {
   "cell_type": "code",
   "execution_count": null,
   "id": "9f0b7cc0",
   "metadata": {},
   "outputs": [],
   "source": [
    "\n",
    "#example\n",
    "import logging\n",
    "\n",
    "# Configure the logging system\n",
    "logging.basicConfig(level=logging.DEBUG, format='%(asctime)s - %(levelname)s - %(message)s')\n",
    "\n",
    "# Log messages at different levels\n",
    "logging.debug('This is a debug message')\n",
    "logging.info('This is an info message')\n",
    "logging.warning('This is a warning message')\n",
    "logging.error('This is an error message')\n",
    "logging.critical('This is a critical message')"
   ]
  },
  {
   "cell_type": "code",
   "execution_count": null,
   "id": "5c69b58c",
   "metadata": {},
   "outputs": [],
   "source": [
    "#Q22) What is the os module in Python used for in file handling?"
   ]
  },
  {
   "cell_type": "code",
   "execution_count": null,
   "id": "1920b501",
   "metadata": {},
   "outputs": [],
   "source": [
    "#Here are some examples demonstrating how to use the os module for file handling:\n",
    "\n",
    "#Creating a Directory\n",
    "import os\n",
    "\n",
    "# Create a new directory\n",
    "os.mkdir('new_directory')"
   ]
  },
  {
   "cell_type": "code",
   "execution_count": null,
   "id": "9245aa79",
   "metadata": {},
   "outputs": [],
   "source": [
    "#Removing a File"
   ]
  },
  {
   "cell_type": "code",
   "execution_count": null,
   "id": "53f6fff1",
   "metadata": {},
   "outputs": [],
   "source": [
    "import os\n",
    "\n",
    "# Remove a file\n",
    "if os.path.exists('file_to_delete.txt'):\n",
    "    os.remove('file_to_delete.txt')\n",
    "else:\n",
    "    print(\"The file does not exist.\")"
   ]
  },
  {
   "cell_type": "code",
   "execution_count": null,
   "id": "ce082335",
   "metadata": {},
   "outputs": [],
   "source": [
    "#Listing Files in a Directory\n",
    "import os\n",
    "\n",
    "# List all files and directories in the current directory\n",
    "files = os.listdir('.')\n",
    "print(\"Files and directories in current directory:\", files)"
   ]
  },
  {
   "cell_type": "code",
   "execution_count": null,
   "id": "bd1b94f6",
   "metadata": {},
   "outputs": [],
   "source": [
    "#Checking if a Path is a File or Directory\n",
    "import os\n",
    "\n",
    "path = 'some_path'\n",
    "\n",
    "if os.path.isfile(path):\n",
    "    print(f\"{path} is a file.\")\n",
    "elif os.path.isdir(path):\n",
    "    print(f\"{path} is a directory.\")\n",
    "else:\n",
    "    print(f\"{path} does not exist.\")"
   ]
  },
  {
   "cell_type": "code",
   "execution_count": null,
   "id": "a3d9ea7d",
   "metadata": {},
   "outputs": [],
   "source": [
    "#Joining Paths\n",
    "import os\n",
    "\n",
    "# Join paths\n",
    "directory = 'my_folder'\n",
    "filename = 'my_file.txt'\n",
    "full_path = os.path.join(directory, filename)\n",
    "print(\"Full path:\", full_path)"
   ]
  },
  {
   "cell_type": "code",
   "execution_count": null,
   "id": "9f9f8c5f",
   "metadata": {},
   "outputs": [],
   "source": [
    "#What are the challenges associated with memory management in Python?\n"
   ]
  },
  {
   "cell_type": "code",
   "execution_count": null,
   "id": "d007ce62",
   "metadata": {},
   "outputs": [],
   "source": [
    "\"\"\"\n",
    "Memory management in Python, while largely automated through its built-in garbage collection and memory management mechanisms, still presents several challenges. \n",
    "Here are some of the key challenges associated with memory management in Python:\n",
    "1. Garbage Collection Overhead\n",
    "2. Memory Leaks\n",
    "3. Fragmentation\n",
    "4. Large Object Management\n",
    "5. Memory Consumption of Python Objects\n",
    "6. Global Interpreter Lock (GIL)\n",
    "7. Third-Party Libraries\n",
    "8. Debugging Memory Issues\n",
    "9. Custom Memory Management\n",
    "\n",
    "\"\"\""
   ]
  },
  {
   "cell_type": "code",
   "execution_count": null,
   "id": "0bff1e05",
   "metadata": {},
   "outputs": [],
   "source": [
    "#Q24) How do you raise an exception manually in Python?"
   ]
  },
  {
   "cell_type": "code",
   "execution_count": null,
   "id": "5151788e",
   "metadata": {},
   "outputs": [],
   "source": [
    "#Basic Syntax\n",
    "#The basic syntax for raising an exception is as follows:\n",
    "\n",
    "raise ExceptionType(\"Error message\")"
   ]
  },
  {
   "cell_type": "code",
   "execution_count": null,
   "id": "450da980",
   "metadata": {},
   "outputs": [],
   "source": [
    "#Example of Raising an Exception\n",
    "#Here’s a simple example of how to raise an exception manually:\n",
    "def divide(a, b):\n",
    "    if b == 0:\n",
    "        raise ValueError(\"Cannot divide by zero.\")\n",
    "    return a / b\n",
    "\n",
    "try:\n",
    "    result = divide(10, 0)\n",
    "except ValueError as e:\n",
    "    print(f\"An error occurred: {e}\")"
   ]
  },
  {
   "cell_type": "code",
   "execution_count": null,
   "id": "d05a26d2",
   "metadata": {},
   "outputs": [],
   "source": [
    "#Q25) Why is it important to use multithreading in certain applications?"
   ]
  },
  {
   "cell_type": "code",
   "execution_count": null,
   "id": "29c9fdf8",
   "metadata": {},
   "outputs": [],
   "source": [
    "\"\"\"\n",
    "Multithreading is an important programming concept that allows multiple threads to run concurrently within a single process. \n",
    "This can be particularly beneficial in certain applications for several reasons:\n",
    "1. Improved Responsiveness\n",
    "2. Concurrent I/O Operations\n",
    "3. Parallelism on Multi-Core Processors\n",
    "4. Simplified Program Structure\n",
    "5. Resource Sharing\n",
    "6. Handling Asynchronous Events\n",
    "7. Improved Throughput\n",
    "8. Background Processing\n",
    "9. Efficient Resource Utilization\n",
    "10. Scalability\n",
    "\"\"\""
   ]
  },
  {
   "cell_type": "markdown",
   "id": "30871924",
   "metadata": {},
   "source": [
    "Practical Questions"
   ]
  },
  {
   "cell_type": "code",
   "execution_count": 1,
   "id": "97d566af",
   "metadata": {},
   "outputs": [],
   "source": [
    "#Q1) How can you open a file for writing in Python and write a string to it?"
   ]
  },
  {
   "cell_type": "code",
   "execution_count": 2,
   "id": "5444a65e",
   "metadata": {},
   "outputs": [],
   "source": [
    "#Here’s an example that demonstrates how to open a file for writing and write a string to it:\n",
    "# Define the string to write\n",
    "text_to_write = \"Hello, world! This is a test string.\"\n",
    "\n",
    "# Open the file for writing\n",
    "with open('example.txt', 'w') as file:\n",
    "    # Write the string to the file\n",
    "    file.write(text_to_write)\n",
    "\n",
    "# The file is automatically closed when exiting the 'with' block"
   ]
  },
  {
   "cell_type": "code",
   "execution_count": 3,
   "id": "72f3e4bf",
   "metadata": {},
   "outputs": [],
   "source": [
    "#Q2) Write a Python program to read the contents of a file and print each line?"
   ]
  },
  {
   "cell_type": "code",
   "execution_count": 4,
   "id": "88462468",
   "metadata": {},
   "outputs": [
    {
     "name": "stdout",
     "output_type": "stream",
     "text": [
      "Hello, world! This is a test string."
     ]
    }
   ],
   "source": [
    "# Specify the name of the file to read\n",
    "file_name = 'example.txt'\n",
    "\n",
    "# Open the file for reading\n",
    "try:\n",
    "    with open(file_name, 'r') as file:\n",
    "        # Read and print each line in the file\n",
    "        for line in file:\n",
    "            print(line, end='')  # Use end='' to avoid adding extra newlines\n",
    "except FileNotFoundError:\n",
    "    print(f\"The file '{file_name}' does not exist.\")\n",
    "except IOError:\n",
    "    print(f\"An error occurred while reading the file '{file_name}'.\")"
   ]
  },
  {
   "cell_type": "code",
   "execution_count": 5,
   "id": "91c71af1",
   "metadata": {},
   "outputs": [],
   "source": [
    "#Q3) How would you handle a case where the file doesn't exist while trying to open it for reading?"
   ]
  },
  {
   "cell_type": "code",
   "execution_count": 6,
   "id": "0a4978b6",
   "metadata": {},
   "outputs": [
    {
     "name": "stdout",
     "output_type": "stream",
     "text": [
      "Hello, world! This is a test string."
     ]
    }
   ],
   "source": [
    "# Specify the name of the file to read\n",
    "file_name = 'example.txt'\n",
    "\n",
    "# Attempt to open the file for reading\n",
    "try:\n",
    "    with open(file_name, 'r') as file:\n",
    "        # Read and print each line in the file\n",
    "        for line in file:\n",
    "            print(line, end='')  # Use end='' to avoid adding extra newlines\n",
    "except FileNotFoundError:\n",
    "    print(f\"Error: The file '{file_name}' does not exist.\")\n",
    "except IOError:\n",
    "    print(f\"Error: An I/O error occurred while trying to read the file '{file_name}'.\")"
   ]
  },
  {
   "cell_type": "code",
   "execution_count": 7,
   "id": "37382c99",
   "metadata": {},
   "outputs": [],
   "source": [
    "#Q4) Write a Python script that reads from one file and writes its content to another file?"
   ]
  },
  {
   "cell_type": "code",
   "execution_count": null,
   "id": "1500cd88",
   "metadata": {},
   "outputs": [],
   "source": [
    "# Specify the source and destination file names\n",
    "source_file_name = 'source.txt'\n",
    "destination_file_name = 'destination.txt'\n",
    "\n",
    "try:\n",
    "    # Open the source file for reading\n",
    "    with open(source_file_name, 'r') as source_file:\n",
    "        # Open the destination file for writing\n",
    "        with open(destination_file_name, 'w') as destination_file:\n",
    "            # Read from the source file and write to the destination file\n",
    "            for line in source_file:\n",
    "                destination_file.write(line)\n",
    "\n",
    "    print(f\"Contents of '{source_file_name}' have been successfully copied to '{destination_file_name}'.\")\n",
    "\n",
    "except FileNotFoundError:\n",
    "    print(f\"Error: The file '{source_file_name}' does not exist.\")\n",
    "except IOError:\n",
    "    print(f\"Error: An I/O error occurred while processing the files.\")"
   ]
  },
  {
   "cell_type": "code",
   "execution_count": 8,
   "id": "68bd446a",
   "metadata": {},
   "outputs": [],
   "source": [
    "#Q5) How would you catch and handle division by zero error in Python?"
   ]
  },
  {
   "cell_type": "code",
   "execution_count": 9,
   "id": "0ef091d9",
   "metadata": {},
   "outputs": [
    {
     "name": "stdout",
     "output_type": "stream",
     "text": [
      "The result of 10 divided by 2 is 5.0.\n",
      "Error: Division by zero is not allowed. Please provide a non-zero denominator.\n"
     ]
    }
   ],
   "source": [
    "def divide_numbers(numerator, denominator):\n",
    "    try:\n",
    "        result = numerator / denominator\n",
    "        print(f\"The result of {numerator} divided by {denominator} is {result}.\")\n",
    "    except ZeroDivisionError:\n",
    "        print(\"Error: Division by zero is not allowed. Please provide a non-zero denominator.\")\n",
    "\n",
    "# Example usage\n",
    "divide_numbers(10, 2)  # This will work\n",
    "divide_numbers(10, 0)  # This will raise a ZeroDivisionError"
   ]
  },
  {
   "cell_type": "code",
   "execution_count": 10,
   "id": "7dc573ab",
   "metadata": {},
   "outputs": [],
   "source": [
    "#Q6) Write a Python program that logs an error message to a log file when a division by zero exception occurs"
   ]
  },
  {
   "cell_type": "code",
   "execution_count": 11,
   "id": "0f943986",
   "metadata": {},
   "outputs": [
    {
     "name": "stdout",
     "output_type": "stream",
     "text": [
      "The result of 10 divided by 2 is 5.0.\n",
      "Error: Division by zero is not allowed.\n"
     ]
    }
   ],
   "source": [
    "import logging\n",
    "\n",
    "# Configure the logging\n",
    "logging.basicConfig(\n",
    "    filename='error_log.txt',  # Log file name\n",
    "    level=logging.ERROR,        # Set the logging level to ERROR\n",
    "    format='%(asctime)s - %(levelname)s - %(message)s'  # Log message format\n",
    ")\n",
    "\n",
    "def divide_numbers(numerator, denominator):\n",
    "    try:\n",
    "        result = numerator / denominator\n",
    "        print(f\"The result of {numerator} divided by {denominator} is {result}.\")\n",
    "    except ZeroDivisionError as e:\n",
    "        error_message = \"Error: Division by zero is not allowed.\"\n",
    "        print(error_message)\n",
    "        logging.error(error_message)  # Log the error message to the log file\n",
    "\n",
    "# Example usage\n",
    "divide_numbers(10, 2)  # This will work\n",
    "divide_numbers(10, 0)  # This will raise a ZeroDivisionError"
   ]
  },
  {
   "cell_type": "code",
   "execution_count": 12,
   "id": "80f38413",
   "metadata": {},
   "outputs": [],
   "source": [
    "#Q7) How do you log information at different levels (INFO, ERROR, WARNING) in Python using the logging module?"
   ]
  },
  {
   "cell_type": "code",
   "execution_count": null,
   "id": "86e91fa9",
   "metadata": {},
   "outputs": [],
   "source": [
    "import logging\n",
    "\n",
    "# Configure the logging\n",
    "logging.basicConfig(\n",
    "    filename='app_log.txt',  # Log file name\n",
    "    level=logging.DEBUG,      # Set the logging level to DEBUG to capture all levels\n",
    "    format='%(asctime)s - %(levelname)s - %(message)s'  # Log message format\n",
    ")\n",
    "\n",
    "def perform_operations():\n",
    "    logging.info(\"Starting the operations...\")  # Log an INFO message\n",
    "\n",
    "    try:\n",
    "        # Simulate a warning\n",
    "        logging.warning(\"This is a warning message. Check your inputs.\")\n",
    "        \n",
    "        # Simulate a division operation\n",
    "        numerator = 10\n",
    "        denominator = 0  # Change this to a non-zero value to avoid the error\n",
    "        result = numerator / denominator\n",
    "        \n",
    "        logging.info(f\"The result of {numerator} divided by {denominator} is {result}.\")\n",
    "    \n",
    "    except ZeroDivisionError as e:\n",
    "        logging.error(\"Error: Division by zero is not allowed.\")  # Log an ERROR message\n",
    "        logging.exception(\"Exception occurred\")  # Log the stack trace of the exception\n",
    "\n",
    "    logging.info(\"Operations completed.\")  # Log an INFO message\n",
    "\n",
    "# Example usage\n",
    "perform_operations()"
   ]
  },
  {
   "cell_type": "code",
   "execution_count": 13,
   "id": "baf02b80",
   "metadata": {},
   "outputs": [],
   "source": [
    "#Q8) Write a program to handle a file opening error using exception handling?"
   ]
  },
  {
   "cell_type": "code",
   "execution_count": 14,
   "id": "2fb83536",
   "metadata": {},
   "outputs": [
    {
     "name": "stdout",
     "output_type": "stream",
     "text": [
      "File content:\n",
      "Hello, world! This is a test string.\n"
     ]
    }
   ],
   "source": [
    "def read_file(file_path):\n",
    "    try:\n",
    "        with open(file_path, 'r') as file:\n",
    "            content = file.read()\n",
    "            print(\"File content:\")\n",
    "            print(content)\n",
    "    except FileNotFoundError:\n",
    "        print(f\"Error: The file '{file_path}' was not found.\")\n",
    "    except PermissionError:\n",
    "        print(f\"Error: You do not have permission to open the file '{file_path}'.\")\n",
    "    except Exception as e:\n",
    "        print(f\"An unexpected error occurred: {e}\")\n",
    "\n",
    "# Example usage\n",
    "file_path = 'example.txt'  # Change this to a file path you want to test\n",
    "read_file(file_path)"
   ]
  },
  {
   "cell_type": "code",
   "execution_count": 15,
   "id": "4700ccb0",
   "metadata": {},
   "outputs": [],
   "source": [
    "#Q9) How can you read a file line by line and store its content in a list in Python?"
   ]
  },
  {
   "cell_type": "code",
   "execution_count": 16,
   "id": "b2118d2b",
   "metadata": {},
   "outputs": [
    {
     "name": "stdout",
     "output_type": "stream",
     "text": [
      "Lines read from the file:\n",
      "Hello, world! This is a test string.\n"
     ]
    }
   ],
   "source": [
    "def read_file_to_list(file_path):\n",
    "    lines = []  # Initialize an empty list to store the lines\n",
    "    try:\n",
    "        with open(file_path, 'r') as file:  # Open the file in read mode\n",
    "            for line in file:  # Iterate over each line in the file\n",
    "                lines.append(line.strip())  # Strip whitespace and add to the list\n",
    "    except FileNotFoundError:\n",
    "        print(f\"Error: The file '{file_path}' was not found.\")\n",
    "    except PermissionError:\n",
    "        print(f\"Error: You do not have permission to open the file '{file_path}'.\")\n",
    "    except Exception as e:\n",
    "        print(f\"An unexpected error occurred: {e}\")\n",
    "    \n",
    "    return lines  # Return the list of lines\n",
    "\n",
    "# Example usage\n",
    "file_path = 'example.txt'  # Change this to the path of your file\n",
    "lines = read_file_to_list(file_path)\n",
    "\n",
    "# Print the lines read from the file\n",
    "if lines:\n",
    "    print(\"Lines read from the file:\")\n",
    "    for line in lines:\n",
    "        print(line)"
   ]
  },
  {
   "cell_type": "code",
   "execution_count": 17,
   "id": "04576e15",
   "metadata": {},
   "outputs": [],
   "source": [
    "#Q10) How can you append data to an existing file in Python?"
   ]
  },
  {
   "cell_type": "code",
   "execution_count": 18,
   "id": "27050fbd",
   "metadata": {},
   "outputs": [
    {
     "name": "stdout",
     "output_type": "stream",
     "text": [
      "Data appended to 'example.txt' successfully.\n"
     ]
    }
   ],
   "source": [
    "def append_to_file(file_path, data):\n",
    "    try:\n",
    "        with open(file_path, 'a') as file:  # Open the file in append mode\n",
    "            file.write(data + '\\n')  # Write the data followed by a newline\n",
    "            print(f\"Data appended to '{file_path}' successfully.\")\n",
    "    except FileNotFoundError:\n",
    "        print(f\"Error: The file '{file_path}' was not found.\")\n",
    "    except PermissionError:\n",
    "        print(f\"Error: You do not have permission to write to the file '{file_path}'.\")\n",
    "    except Exception as e:\n",
    "        print(f\"An unexpected error occurred: {e}\")\n",
    "\n",
    "# Example usage\n",
    "file_path = 'example.txt'  # Change this to the path of your file\n",
    "data_to_append = \"This is a new line of text.\"  # Data you want to append\n",
    "append_to_file(file_path, data_to_append)"
   ]
  },
  {
   "cell_type": "code",
   "execution_count": 19,
   "id": "ab9766e9",
   "metadata": {},
   "outputs": [],
   "source": [
    "#Q11) Write a Python program that uses a try-except block to handle an error when attempting to access a dictionary key that doesn't exist"
   ]
  },
  {
   "cell_type": "code",
   "execution_count": 20,
   "id": "c5d449eb",
   "metadata": {},
   "outputs": [
    {
     "name": "stdout",
     "output_type": "stream",
     "text": [
      "The value for the key 'name' is: Alice\n",
      "Error: The key 'country' does not exist in the dictionary.\n"
     ]
    }
   ],
   "source": [
    "def access_dictionary_key(my_dict, key):\n",
    "    try:\n",
    "        # Attempt to access the value associated with the given key\n",
    "        value = my_dict[key]\n",
    "        print(f\"The value for the key '{key}' is: {value}\")\n",
    "    except KeyError:\n",
    "        # Handle the case where the key does not exist in the dictionary\n",
    "        print(f\"Error: The key '{key}' does not exist in the dictionary.\")\n",
    "\n",
    "# Example usage\n",
    "my_dict = {\n",
    "    'name': 'Alice',\n",
    "    'age': 30,\n",
    "    'city': 'New York'\n",
    "}\n",
    "\n",
    "# Test with an existing key\n",
    "access_dictionary_key(my_dict, 'name')\n",
    "\n",
    "# Test with a non-existing key\n",
    "access_dictionary_key(my_dict, 'country')"
   ]
  },
  {
   "cell_type": "code",
   "execution_count": 21,
   "id": "fa24bcfd",
   "metadata": {},
   "outputs": [],
   "source": [
    "#Q12) Write a program that demonstrates using multiple except blocks to handle different types of exceptions"
   ]
  },
  {
   "cell_type": "code",
   "execution_count": 22,
   "id": "c8439a9d",
   "metadata": {},
   "outputs": [
    {
     "name": "stdout",
     "output_type": "stream",
     "text": [
      "Error: Cannot divide by zero.\n",
      "Error: Index 5 is out of range for the list.\n",
      "Error: Cannot convert 'abc' to an integer.\n"
     ]
    }
   ],
   "source": [
    "def demonstrate_exceptions():\n",
    "    # Example 1: Division by zero\n",
    "    try:\n",
    "        numerator = 10\n",
    "        denominator = 0\n",
    "        result = numerator / denominator\n",
    "        print(f\"Result of division: {result}\")\n",
    "    except ZeroDivisionError:\n",
    "        print(\"Error: Cannot divide by zero.\")\n",
    "\n",
    "    # Example 2: Index out of range\n",
    "    my_list = [1, 2, 3]\n",
    "    try:\n",
    "        index = 5\n",
    "        value = my_list[index]\n",
    "        print(f\"Value at index {index}: {value}\")\n",
    "    except IndexError:\n",
    "        print(f\"Error: Index {index} is out of range for the list.\")\n",
    "\n",
    "    # Example 3: ValueError when converting a string to an integer\n",
    "    try:\n",
    "        string_value = \"abc\"\n",
    "        number = int(string_value)\n",
    "        print(f\"Converted number: {number}\")\n",
    "    except ValueError:\n",
    "        print(f\"Error: Cannot convert '{string_value}' to an integer.\")\n",
    "\n",
    "# Run the demonstration\n",
    "demonstrate_exceptions()"
   ]
  },
  {
   "cell_type": "code",
   "execution_count": 23,
   "id": "827c9bad",
   "metadata": {},
   "outputs": [],
   "source": [
    "#Q13) How would you check if a file exists before attempting to read it in Python?"
   ]
  },
  {
   "cell_type": "code",
   "execution_count": 24,
   "id": "1466098a",
   "metadata": {},
   "outputs": [
    {
     "name": "stdout",
     "output_type": "stream",
     "text": [
      "Hello, world! This is a test string.This is a new line of text.\n",
      "\n"
     ]
    }
   ],
   "source": [
    "#You can use the os.path.exists() function to check if a file exists.\n",
    "import os\n",
    "\n",
    "def read_file(file_path):\n",
    "    if os.path.exists(file_path):\n",
    "        with open(file_path, 'r') as file:\n",
    "            content = file.read()\n",
    "            print(content)\n",
    "    else:\n",
    "        print(f\"Error: The file '{file_path}' does not exist.\")\n",
    "\n",
    "# Example usage\n",
    "file_path = 'example.txt'  # Change this to the path of your file\n",
    "read_file(file_path)"
   ]
  },
  {
   "cell_type": "code",
   "execution_count": 25,
   "id": "f847801e",
   "metadata": {},
   "outputs": [],
   "source": [
    "#Q14) Write a program that uses the logging module to log both informational and error messages?"
   ]
  },
  {
   "cell_type": "code",
   "execution_count": 26,
   "id": "42a77987",
   "metadata": {},
   "outputs": [],
   "source": [
    "import logging\n",
    "\n",
    "# Configure the logging\n",
    "logging.basicConfig(\n",
    "    level=logging.DEBUG,  # Set the logging level to DEBUG to capture all types of log messages\n",
    "    format='%(asctime)s - %(levelname)s - %(message)s',  # Define the format of the log messages\n",
    "    filename='app.log',  # Log messages will be written to this file\n",
    "    filemode='w'  # 'w' to overwrite the log file each time the program runs\n",
    ")\n",
    "\n",
    "def divide_numbers(numerator, denominator):\n",
    "    logging.info(f\"Attempting to divide {numerator} by {denominator}.\")\n",
    "    try:\n",
    "        result = numerator / denominator\n",
    "        logging.info(f\"Division successful: {result}\")\n",
    "        return result\n",
    "    except ZeroDivisionError as e:\n",
    "        logging.error(f\"Error occurred: {e}\")\n",
    "        return None\n",
    "\n",
    "def main():\n",
    "    # Log an informational message\n",
    "    logging.info(\"Program started.\")\n",
    "\n",
    "    # Perform some divisions\n",
    "    divide_numbers(10, 2)  # This should succeed\n",
    "    divide_numbers(10, 0)  # This should raise an error\n",
    "\n",
    "    # Log an informational message\n",
    "    logging.info(\"Program finished.\")\n",
    "\n",
    "if __name__ == \"__main__\":\n",
    "    main()"
   ]
  },
  {
   "cell_type": "code",
   "execution_count": 27,
   "id": "210102af",
   "metadata": {},
   "outputs": [],
   "source": [
    "#Q15) Write a Python program that prints the content of a file and handles the case when the file is empty?"
   ]
  },
  {
   "cell_type": "code",
   "execution_count": 28,
   "id": "37d5df8e",
   "metadata": {},
   "outputs": [
    {
     "name": "stdout",
     "output_type": "stream",
     "text": [
      "File Content:\n",
      "Hello, world! This is a test string.This is a new line of text.\n",
      "\n"
     ]
    }
   ],
   "source": [
    "def read_file(file_path):\n",
    "    try:\n",
    "        with open(file_path, 'r') as file:\n",
    "            content = file.read()\n",
    "            if content:  # Check if the content is not empty\n",
    "                print(\"File Content:\")\n",
    "                print(content)\n",
    "            else:\n",
    "                print(f\"The file '{file_path}' is empty.\")\n",
    "    except FileNotFoundError:\n",
    "        print(f\"Error: The file '{file_path}' does not exist.\")\n",
    "    except Exception as e:\n",
    "        print(f\"An error occurred: {e}\")\n",
    "\n",
    "def main():\n",
    "    file_path = 'example.txt'  # Change this to the path of your file\n",
    "    read_file(file_path)\n",
    "\n",
    "if __name__ == \"__main__\":\n",
    "    main()"
   ]
  },
  {
   "cell_type": "code",
   "execution_count": 29,
   "id": "52057a6b",
   "metadata": {},
   "outputs": [],
   "source": [
    "#Q16) Demonstrate how to use memory profiling to check the memory usage of a small program?"
   ]
  },
  {
   "cell_type": "code",
   "execution_count": 32,
   "id": "bbc50cd5",
   "metadata": {},
   "outputs": [
    {
     "data": {
      "text/plain": [
       "'\\n# sample_program.py (seperate python file)\\nfrom memory_profiler import profile\\n\\n@profile\\ndef my_function():\\n    a = [i for i in range(10000)]  # Create a list of 10,000 integers\\n    b = [i * 2 for i in a]          # Create another list by doubling the values\\n    c = sum(b)                      # Sum the values in list b\\n    return c\\n\\nif __name__ == \"__main__\":\\n    result = my_function()\\n    print(f\"Result: {result}\")\\n'"
      ]
     },
     "execution_count": 32,
     "metadata": {},
     "output_type": "execute_result"
    }
   ],
   "source": [
    "\"\"\"\n",
    "# sample_program.py (seperate python file)\n",
    "from memory_profiler import profile\n",
    "\n",
    "@profile\n",
    "def my_function():\n",
    "    a = [i for i in range(10000)]  # Create a list of 10,000 integers\n",
    "    b = [i * 2 for i in a]          # Create another list by doubling the values\n",
    "    c = sum(b)                      # Sum the values in list b\n",
    "    return c\n",
    "\n",
    "if __name__ == \"__main__\":\n",
    "    result = my_function()\n",
    "    print(f\"Result: {result}\")\n",
    "\"\"\""
   ]
  },
  {
   "cell_type": "code",
   "execution_count": null,
   "id": "db5df071",
   "metadata": {},
   "outputs": [],
   "source": [
    "\"\"\"\n",
    "Output on terminal\n",
    "Filename: sample_program.py\n",
    "\n",
    "Line #    Mem usage    Increment  Occurrences   Line Contents\n",
    "=============================================================\n",
    "    10     49.9 MiB     49.9 MiB           1   @profile\n",
    "    11                                         def my_function():\n",
    "    12     50.3 MiB      0.4 MiB       10003       a = [i for i in range(10000)]  # Create a list of 10,000 integers\n",
    "    13     50.9 MiB      0.5 MiB       10003       b = [i * 2 for i in a]          # Create another list by doubling the values\n",
    "    14     50.9 MiB      0.0 MiB           1       c = sum(b)                      # Sum the values in list b\n",
    "    15     50.9 MiB      0.0 MiB           1       return c\n",
    "\n",
    "\n",
    "Result: 99990000\n",
    "\n",
    "(base) C:\\Users\\Acer>\n",
    "\"\"\""
   ]
  },
  {
   "cell_type": "code",
   "execution_count": 34,
   "id": "ebdd152a",
   "metadata": {},
   "outputs": [],
   "source": [
    "#Q17) Write a Python program to create and write a list of numbers to a file, one number per line?"
   ]
  },
  {
   "cell_type": "code",
   "execution_count": 35,
   "id": "6586e1e6",
   "metadata": {},
   "outputs": [
    {
     "name": "stdout",
     "output_type": "stream",
     "text": [
      "Numbers have been written to 'numbers.txt' successfully.\n"
     ]
    }
   ],
   "source": [
    "def write_numbers_to_file(file_path, numbers):\n",
    "    try:\n",
    "        with open(file_path, 'w') as file:  # Open the file in write mode\n",
    "            for number in numbers:\n",
    "                file.write(f\"{number}\\n\")  # Write each number followed by a newline\n",
    "        print(f\"Numbers have been written to '{file_path}' successfully.\")\n",
    "    except Exception as e:\n",
    "        print(f\"An error occurred: {e}\")\n",
    "\n",
    "def main():\n",
    "    # Create a list of numbers\n",
    "    numbers = [1, 2, 3, 4, 5, 6, 7, 8, 9, 10]  # You can modify this list as needed\n",
    "    file_path = 'numbers.txt'  # Specify the file name\n",
    "    write_numbers_to_file(file_path, numbers)\n",
    "\n",
    "if __name__ == \"__main__\":\n",
    "    main()"
   ]
  },
  {
   "cell_type": "code",
   "execution_count": 36,
   "id": "cce38ffc",
   "metadata": {},
   "outputs": [],
   "source": [
    "#18) How would you implement a basic logging setup that logs to a file with rotation after 1MB?"
   ]
  },
  {
   "cell_type": "code",
   "execution_count": 37,
   "id": "93019bf1",
   "metadata": {},
   "outputs": [],
   "source": [
    "import logging\n",
    "from logging.handlers import RotatingFileHandler\n",
    "\n",
    "def setup_logging(log_file):\n",
    "    # Create a logger\n",
    "    logger = logging.getLogger(\"MyLogger\")\n",
    "    logger.setLevel(logging.DEBUG)  # Set the logging level\n",
    "\n",
    "    # Create a rotating file handler\n",
    "    handler = RotatingFileHandler(log_file, maxBytes=1*1024*1024, backupCount=5)  # 1MB size limit, keep 5 backups\n",
    "    handler.setLevel(logging.DEBUG)  # Set the handler level\n",
    "\n",
    "    # Create a formatter and set it for the handler\n",
    "    formatter = logging.Formatter('%(asctime)s - %(name)s - %(levelname)s - %(message)s')\n",
    "    handler.setFormatter(formatter)\n",
    "\n",
    "    # Add the handler to the logger\n",
    "    logger.addHandler(handler)\n",
    "\n",
    "    return logger\n",
    "\n",
    "def main():\n",
    "    log_file = 'app.log'  # Specify the log file name\n",
    "    logger = setup_logging(log_file)\n",
    "\n",
    "    # Example log messages\n",
    "    for i in range(10000):\n",
    "        logger.debug(f\"This is a debug message number {i}\")\n",
    "        logger.info(f\"This is an info message number {i}\")\n",
    "        logger.warning(f\"This is a warning message number {i}\")\n",
    "        logger.error(f\"This is an error message number {i}\")\n",
    "        logger.critical(f\"This is a critical message number {i}\")\n",
    "\n",
    "if __name__ == \"__main__\":\n",
    "    main()"
   ]
  },
  {
   "cell_type": "code",
   "execution_count": 38,
   "id": "482eeffd",
   "metadata": {},
   "outputs": [],
   "source": [
    "#Q19) Write a program that handles both IndexError and KeyError using a try-except block?"
   ]
  },
  {
   "cell_type": "code",
   "execution_count": 39,
   "id": "d945c431",
   "metadata": {},
   "outputs": [
    {
     "name": "stdout",
     "output_type": "stream",
     "text": [
      "Value from list at index 2: 30\n",
      "Value from dictionary for key 'b': 2\n",
      "Error: Index 5 is out of range for the list.\n",
      "Value from list at index 1: 20\n",
      "Error: Key 'd' not found in the dictionary.\n"
     ]
    }
   ],
   "source": [
    "def access_data(my_list, my_dict, list_index, dict_key):\n",
    "    try:\n",
    "        # Attempt to access an element from the list\n",
    "        list_value = my_list[list_index]\n",
    "        print(f\"Value from list at index {list_index}: {list_value}\")\n",
    "\n",
    "        # Attempt to access a value from the dictionary\n",
    "        dict_value = my_dict[dict_key]\n",
    "        print(f\"Value from dictionary for key '{dict_key}': {dict_value}\")\n",
    "\n",
    "    except IndexError:\n",
    "        print(f\"Error: Index {list_index} is out of range for the list.\")\n",
    "    except KeyError:\n",
    "        print(f\"Error: Key '{dict_key}' not found in the dictionary.\")\n",
    "\n",
    "def main():\n",
    "    # Sample data\n",
    "    my_list = [10, 20, 30]\n",
    "    my_dict = {'a': 1, 'b': 2, 'c': 3}\n",
    "\n",
    "    # Test cases\n",
    "    access_data(my_list, my_dict, 2, 'b')  # Valid access\n",
    "    access_data(my_list, my_dict, 5, 'b')  # IndexError\n",
    "    access_data(my_list, my_dict, 1, 'd')  # KeyError\n",
    "\n",
    "if __name__ == \"__main__\":\n",
    "    main()"
   ]
  },
  {
   "cell_type": "code",
   "execution_count": 40,
   "id": "d2ce790e",
   "metadata": {},
   "outputs": [],
   "source": [
    "#Q20) How would you open a file and read its contents using a context manager in Python?"
   ]
  },
  {
   "cell_type": "code",
   "execution_count": 41,
   "id": "56719a5a",
   "metadata": {},
   "outputs": [
    {
     "name": "stdout",
     "output_type": "stream",
     "text": [
      "File Contents:\n",
      "Hello, world! This is a test string.This is a new line of text.\n",
      "\n"
     ]
    }
   ],
   "source": [
    "def read_file(file_path):\n",
    "    try:\n",
    "        # Use a context manager to open the file\n",
    "        with open(file_path, 'r') as file:  # 'r' mode is for reading\n",
    "            contents = file.read()  # Read the entire file contents\n",
    "            return contents\n",
    "    except FileNotFoundError:\n",
    "        print(f\"Error: The file '{file_path}' was not found.\")\n",
    "    except IOError:\n",
    "        print(f\"Error: An I/O error occurred while reading the file '{file_path}'.\")\n",
    "\n",
    "def main():\n",
    "    file_path = 'example.txt'  # Specify the path to your file\n",
    "    file_contents = read_file(file_path)\n",
    "    \n",
    "    if file_contents is not None:\n",
    "        print(\"File Contents:\")\n",
    "        print(file_contents)\n",
    "\n",
    "if __name__ == \"__main__\":\n",
    "    main()"
   ]
  },
  {
   "cell_type": "code",
   "execution_count": 42,
   "id": "88c2ab17",
   "metadata": {},
   "outputs": [],
   "source": [
    "#Q21) Write a Python program that reads a file and prints the number of occurrences of a specific word?"
   ]
  },
  {
   "cell_type": "code",
   "execution_count": 43,
   "id": "0281df97",
   "metadata": {},
   "outputs": [
    {
     "name": "stdout",
     "output_type": "stream",
     "text": [
      "The word 'sample' occurs 0 times in the file 'example.txt'.\n"
     ]
    }
   ],
   "source": [
    "def count_word_occurrences(file_path, target_word):\n",
    "    try:\n",
    "        # Initialize a counter for the occurrences\n",
    "        count = 0\n",
    "        \n",
    "        # Use a context manager to open the file\n",
    "        with open(file_path, 'r') as file:\n",
    "            # Read the file line by line\n",
    "            for line in file:\n",
    "                # Split the line into words and count occurrences of the target word\n",
    "                words = line.split()\n",
    "                count += words.count(target_word)\n",
    "\n",
    "        return count\n",
    "\n",
    "    except FileNotFoundError:\n",
    "        print(f\"Error: The file '{file_path}' was not found.\")\n",
    "        return None\n",
    "    except IOError:\n",
    "        print(f\"Error: An I/O error occurred while reading the file '{file_path}'.\")\n",
    "        return None\n",
    "\n",
    "def main():\n",
    "    file_path = 'example.txt'  # Specify the path to your file\n",
    "    target_word = 'sample'      # Specify the word to count\n",
    "\n",
    "    occurrences = count_word_occurrences(file_path, target_word)\n",
    "    \n",
    "    if occurrences is not None:\n",
    "        print(f\"The word '{target_word}' occurs {occurrences} times in the file '{file_path}'.\")\n",
    "\n",
    "if __name__ == \"__main__\":\n",
    "    main()"
   ]
  },
  {
   "cell_type": "code",
   "execution_count": 44,
   "id": "7fef1dac",
   "metadata": {},
   "outputs": [],
   "source": [
    "#Q22) How can you check if a file is empty before attempting to read its contents?"
   ]
  },
  {
   "cell_type": "code",
   "execution_count": 45,
   "id": "6f53f969",
   "metadata": {},
   "outputs": [
    {
     "name": "stdout",
     "output_type": "stream",
     "text": [
      "File Contents:\n",
      "Hello, world! This is a test string.This is a new line of text.\n",
      "\n"
     ]
    }
   ],
   "source": [
    "import os\n",
    "\n",
    "def is_file_empty(file_path):\n",
    "    \"\"\"Check if the file is empty.\"\"\"\n",
    "    return os.path.exists(file_path) and os.path.getsize(file_path) == 0\n",
    "\n",
    "def read_file(file_path):\n",
    "    \"\"\"Read the contents of the file if it is not empty.\"\"\"\n",
    "    if is_file_empty(file_path):\n",
    "        print(f\"The file '{file_path}' is empty.\")\n",
    "        return None\n",
    "\n",
    "    try:\n",
    "        with open(file_path, 'r') as file:\n",
    "            contents = file.read()\n",
    "            return contents\n",
    "    except FileNotFoundError:\n",
    "        print(f\"Error: The file '{file_path}' was not found.\")\n",
    "    except IOError:\n",
    "        print(f\"Error: An I/O error occurred while reading the file '{file_path}'.\")\n",
    "\n",
    "def main():\n",
    "    file_path = 'example.txt'  # Specify the path to your file\n",
    "    file_contents = read_file(file_path)\n",
    "    \n",
    "    if file_contents is not None:\n",
    "        print(\"File Contents:\")\n",
    "        print(file_contents)\n",
    "\n",
    "if __name__ == \"__main__\":\n",
    "    main()"
   ]
  },
  {
   "cell_type": "code",
   "execution_count": 46,
   "id": "98b9456a",
   "metadata": {},
   "outputs": [],
   "source": [
    "#Q23) Write a Python program that writes to a log file when an error occurs during file handling."
   ]
  },
  {
   "cell_type": "code",
   "execution_count": 47,
   "id": "dccb73d2",
   "metadata": {},
   "outputs": [
    {
     "name": "stdout",
     "output_type": "stream",
     "text": [
      "File Contents:\n",
      "Hello, World!\n",
      "This is a sample log file.\n",
      "Error: The file 'non_existent_file.txt' was not found.\n"
     ]
    }
   ],
   "source": [
    "import os\n",
    "import logging\n",
    "\n",
    "# Configure logging\n",
    "logging.basicConfig(\n",
    "    filename='error_log.txt',  # Log file name\n",
    "    level=logging.ERROR,        # Log level\n",
    "    format='%(asctime)s - %(levelname)s - %(message)s'  # Log message format\n",
    ")\n",
    "\n",
    "def read_file(file_path):\n",
    "    \"\"\"Read the contents of the file and log errors if they occur.\"\"\"\n",
    "    try:\n",
    "        with open(file_path, 'r') as file:\n",
    "            contents = file.read()\n",
    "            return contents\n",
    "    except FileNotFoundError:\n",
    "        error_message = f\"Error: The file '{file_path}' was not found.\"\n",
    "        logging.error(error_message)\n",
    "        print(error_message)\n",
    "    except IOError as e:\n",
    "        error_message = f\"Error: An I/O error occurred while reading the file '{file_path}': {e}\"\n",
    "        logging.error(error_message)\n",
    "        print(error_message)\n",
    "\n",
    "def write_to_file(file_path, content):\n",
    "    \"\"\"Write content to a file and log errors if they occur.\"\"\"\n",
    "    try:\n",
    "        with open(file_path, 'w') as file:\n",
    "            file.write(content)\n",
    "    except IOError as e:\n",
    "        error_message = f\"Error: An I/O error occurred while writing to the file '{file_path}': {e}\"\n",
    "        logging.error(error_message)\n",
    "        print(error_message)\n",
    "\n",
    "def main():\n",
    "    # Specify the path to the file\n",
    "    file_path = 'example.txt'\n",
    "    \n",
    "    # Write some content to the file\n",
    "    write_to_file(file_path, \"Hello, World!\\nThis is a sample log file.\")\n",
    "\n",
    "    # Attempt to read the file\n",
    "    file_contents = read_file(file_path)\n",
    "    \n",
    "    if file_contents is not None:\n",
    "        print(\"File Contents:\")\n",
    "        print(file_contents)\n",
    "\n",
    "    # Attempt to read a non-existent file to trigger an error\n",
    "    read_file('non_existent_file.txt')\n",
    "\n",
    "if __name__ == \"__main__\":\n",
    "    main()"
   ]
  },
  {
   "cell_type": "code",
   "execution_count": null,
   "id": "988c3d98",
   "metadata": {},
   "outputs": [],
   "source": []
  }
 ],
 "metadata": {
  "kernelspec": {
   "display_name": "Python 3 (ipykernel)",
   "language": "python",
   "name": "python3"
  },
  "language_info": {
   "codemirror_mode": {
    "name": "ipython",
    "version": 3
   },
   "file_extension": ".py",
   "mimetype": "text/x-python",
   "name": "python",
   "nbconvert_exporter": "python",
   "pygments_lexer": "ipython3",
   "version": "3.11.5"
  }
 },
 "nbformat": 4,
 "nbformat_minor": 5
}
